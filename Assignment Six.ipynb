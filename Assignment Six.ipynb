{
 "cells": [
  {
   "cell_type": "markdown",
   "id": "10189203",
   "metadata": {},
   "source": [
    "# Import Libraries"
   ]
  },
  {
   "cell_type": "code",
   "execution_count": 1,
   "id": "1daa7021",
   "metadata": {},
   "outputs": [],
   "source": [
    "import pandas as pd"
   ]
  },
  {
   "cell_type": "markdown",
   "id": "ceeb89a3",
   "metadata": {},
   "source": [
    "# Number of Features"
   ]
  },
  {
   "cell_type": "code",
   "execution_count": 7,
   "id": "68d6086f",
   "metadata": {},
   "outputs": [
    {
     "name": "stdout",
     "output_type": "stream",
     "text": [
      "The Number of features in this Data File is: 16 Features\n"
     ]
    }
   ],
   "source": [
    "fo = pd.read_csv('D:\\smoke.csv')\n",
    "noOfFeatures = fo.shape[1]\n",
    "\n",
    "print(f\"The Number of features in this Data File is: {noOfFeatures} Features\")"
   ]
  },
  {
   "cell_type": "markdown",
   "id": "94ce3c38",
   "metadata": {},
   "source": [
    "# Number of Data"
   ]
  },
  {
   "cell_type": "code",
   "execution_count": 13,
   "id": "4d1a2333",
   "metadata": {},
   "outputs": [
    {
     "name": "stdout",
     "output_type": "stream",
     "text": [
      "The Number of Rows: 62629\n",
      "The Number of Columns: 16\n"
     ]
    }
   ],
   "source": [
    "fo = pd.read_csv('D:\\smoke.csv', skiprows=[0]) # To skip the first row\n",
    "noOfRows , noOfCols = fo.shape\n",
    "\n",
    "# Print the Number of Rows and Columns\n",
    "print(f\"The Number of Rows: {noOfRows}\")\n",
    "print(f\"The Number of Columns: {noOfCols}\")"
   ]
  },
  {
   "cell_type": "markdown",
   "id": "7c633494",
   "metadata": {},
   "source": [
    "# Drop the UTC"
   ]
  },
  {
   "cell_type": "code",
   "execution_count": 17,
   "id": "0f5e3715",
   "metadata": {},
   "outputs": [],
   "source": [
    "fo = pd.read_csv('D:\\smoke.csv')\n",
    "# Droping the UTC Column\n",
    "fo = fo.drop(columns=[\"UTC\"])"
   ]
  },
  {
   "cell_type": "markdown",
   "id": "6785904b",
   "metadata": {},
   "source": [
    "# Displaying the Data after dropping \"UTC\""
   ]
  },
  {
   "cell_type": "code",
   "execution_count": 18,
   "id": "6687bbc7",
   "metadata": {},
   "outputs": [
    {
     "name": "stdout",
     "output_type": "stream",
     "text": [
      "The Data: \n",
      "\n",
      "    num  Temperature  Humidity  TVOC  eCO2  Raw_H2  Raw_Ethanol  Pressure  \\\n",
      "0     0       20.000     57.36     0   400   12306        18520   939.735   \n",
      "1     1       20.015     56.67     0   400   12345        18651   939.744   \n",
      "2     2       20.029     55.96     0   400   12374        18764   939.738   \n",
      "3     3       20.044     55.28     0   400   12390        18849   939.736   \n",
      "4     4       20.059     54.69     0   400   12403        18921   939.744   \n",
      "5     5       20.073     54.12     0   400   12419        18998   939.725   \n",
      "6     6       20.088     53.61     0   400   12432        19058   939.738   \n",
      "7     7       20.103     53.20     0   400   12439        19114   939.758   \n",
      "8     8       20.117     52.81     0   400   12448        19155   939.758   \n",
      "9     9       20.132     52.46     0   400   12453        19195   939.756   \n",
      "10   10       20.146     52.15     0   400   12454        19230   939.757   \n",
      "11   11       20.161     51.84     0   400   12467        19264   939.754   \n",
      "12   12       20.175     51.62     0   400   12467        19299   939.755   \n",
      "13   13       20.190     51.39     0   400   12469        19317   939.758   \n",
      "14   14       20.204     51.17     0   403   12468        19338   939.742   \n",
      "15   15       20.219     50.99     0   400   12475        19362   939.741   \n",
      "16   16       20.233     50.86     0   400   12480        19382   939.758   \n",
      "17   17       20.248     50.66     0   400   12477        19400   939.764   \n",
      "18   18       20.262     50.49     0   400   12481        19422   939.761   \n",
      "19   19       20.277     50.27     0   406   12489        19451   939.752   \n",
      "\n",
      "     PM1   PM2  NC0    NC1    NC2  CNT  Fire_Alarm  \n",
      "0   0.00  0.00  0.0  0.000  0.000    0           0  \n",
      "1   0.00  0.00  0.0  0.000  0.000    1           0  \n",
      "2   0.00  0.00  0.0  0.000  0.000    2           0  \n",
      "3   0.00  0.00  0.0  0.000  0.000    3           0  \n",
      "4   0.00  0.00  0.0  0.000  0.000    4           0  \n",
      "5   0.00  0.00  0.0  0.000  0.000    5           0  \n",
      "6   0.00  0.00  0.0  0.000  0.000    6           0  \n",
      "7   0.00  0.00  0.0  0.000  0.000    7           0  \n",
      "8   0.00  0.00  0.0  0.000  0.000    8           0  \n",
      "9   0.90  3.78  0.0  4.369  2.780    9           0  \n",
      "10  0.89  3.71  0.0  4.289  2.730   10           0  \n",
      "11  0.84  3.51  0.0  4.053  2.580   11           0  \n",
      "12  0.81  3.38  0.0  3.909  2.488   12           0  \n",
      "13  0.74  3.11  0.0  3.588  2.284   13           0  \n",
      "14  0.71  2.96  0.0  3.419  2.176   14           0  \n",
      "15  0.64  2.66  0.0  3.077  1.959   15           0  \n",
      "16  0.60  2.52  0.0  2.908  1.851   16           0  \n",
      "17  0.53  2.23  0.0  2.580  1.642   17           0  \n",
      "18  0.50  2.10  0.0  2.423  1.542   18           0  \n",
      "19  0.41  1.72  0.0  1.987  1.265   19           0  \n"
     ]
    }
   ],
   "source": [
    "print(\"The Data: \") \n",
    "print()\n",
    "\n",
    "print(fo.head(20)) # To Print The 1st 20 Lines In The File"
   ]
  },
  {
   "cell_type": "code",
   "execution_count": null,
   "id": "7660d456",
   "metadata": {},
   "outputs": [],
   "source": []
  }
 ],
 "metadata": {
  "kernelspec": {
   "display_name": "Python 3 (ipykernel)",
   "language": "python",
   "name": "python3"
  },
  "language_info": {
   "codemirror_mode": {
    "name": "ipython",
    "version": 3
   },
   "file_extension": ".py",
   "mimetype": "text/x-python",
   "name": "python",
   "nbconvert_exporter": "python",
   "pygments_lexer": "ipython3",
   "version": "3.10.9"
  }
 },
 "nbformat": 4,
 "nbformat_minor": 5
}
